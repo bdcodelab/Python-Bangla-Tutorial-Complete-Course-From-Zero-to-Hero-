{
 "cells": [
  {
   "cell_type": "markdown",
   "id": "af2425de",
   "metadata": {},
   "source": [
    "Write an expression that equals 100. \n",
    "\n",
    "For example 50+50   or 110-10 . \n",
    "\n",
    "See if you can use more than one arithmetic operator! Write only one expression and submit only one line of code.\n",
    "\n",
    "If your expression results in 100, then you should see a success message after you test out your solution :)"
   ]
  }
 ],
 "metadata": {
  "kernelspec": {
   "display_name": "Python 3 (ipykernel)",
   "language": "python",
   "name": "python3"
  },
  "language_info": {
   "codemirror_mode": {
    "name": "ipython",
    "version": 3
   },
   "file_extension": ".py",
   "mimetype": "text/x-python",
   "name": "python",
   "nbconvert_exporter": "python",
   "pygments_lexer": "ipython3",
   "version": "3.10.9"
  }
 },
 "nbformat": 4,
 "nbformat_minor": 5
}
